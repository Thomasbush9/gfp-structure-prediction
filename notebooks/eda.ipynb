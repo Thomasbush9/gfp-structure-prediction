{
 "cells": [
  {
   "cell_type": "code",
   "execution_count": 1,
   "metadata": {},
   "outputs": [],
   "source": [
    "import os\n",
    "from pathlib import Path\n",
    "from tqdm import tqdm\n",
    "import pandas as pd\n",
    "import xarray as xr\n",
    "import re"
   ]
  },
  {
   "cell_type": "code",
   "execution_count": 2,
   "metadata": {},
   "outputs": [],
   "source": [
    "%load_ext autoreload\n",
    "%autoreload 2"
   ]
  },
  {
   "cell_type": "code",
   "execution_count": 3,
   "metadata": {},
   "outputs": [],
   "source": [
    "data_dir = Path('../Data')\n",
    "original_seq_path = data_dir / '/Users/thomasbush/Documents/ML/gfp_tryout/data/P42212.fasta.txt'\n",
    "data_set_path = data_dir / '/Users/thomasbush/Documents/ML/gfp_tryout/data/amino_acid_genotypes_to_brightness.tsv'"
   ]
  },
  {
   "cell_type": "code",
   "execution_count": 4,
   "metadata": {},
   "outputs": [],
   "source": [
    "import sys\n",
    "parent_dir = os.path.abspath(os.path.join(os.getcwd(), '..'))\n",
    "\n",
    "# Step 2: Add it to sys.path\n",
    "if parent_dir not in sys.path:\n",
    "    sys.path.append(parent_dir)\n",
    "\n",
    "# Step 3: Import the function from utils.py\n",
    "from scripts.utils import mutate_sequence, load_seq_, load_dataset"
   ]
  },
  {
   "cell_type": "code",
   "execution_count": 5,
   "metadata": {},
   "outputs": [],
   "source": [
    "seq, mapping = load_seq_(original_seq_path)"
   ]
  },
  {
   "cell_type": "code",
   "execution_count": 6,
   "metadata": {},
   "outputs": [],
   "source": [
    "dataset = load_dataset(data_set_path, sep='\\t')\n",
    "seq, mapping = load_seq_(original_seq_path)\n",
    "dataset['seq_mutated'] = dataset['aaMutations'].apply(\n",
    "    lambda muts: mutate_sequence(muts, seq=seq, mapping_db_seq=mapping)\n",
    ")"
   ]
  },
  {
   "cell_type": "code",
   "execution_count": 7,
   "metadata": {},
   "outputs": [
    {
     "data": {
      "text/html": [
       "<div>\n",
       "<style scoped>\n",
       "    .dataframe tbody tr th:only-of-type {\n",
       "        vertical-align: middle;\n",
       "    }\n",
       "\n",
       "    .dataframe tbody tr th {\n",
       "        vertical-align: top;\n",
       "    }\n",
       "\n",
       "    .dataframe thead th {\n",
       "        text-align: right;\n",
       "    }\n",
       "</style>\n",
       "<table border=\"1\" class=\"dataframe\">\n",
       "  <thead>\n",
       "    <tr style=\"text-align: right;\">\n",
       "      <th></th>\n",
       "      <th>aaMutations</th>\n",
       "      <th>uniqueBarcodes</th>\n",
       "      <th>medianBrightness</th>\n",
       "      <th>std</th>\n",
       "      <th>seq_mutated</th>\n",
       "    </tr>\n",
       "  </thead>\n",
       "  <tbody>\n",
       "    <tr>\n",
       "      <th>0</th>\n",
       "      <td>NaN</td>\n",
       "      <td>3645</td>\n",
       "      <td>3.719212</td>\n",
       "      <td>0.106992</td>\n",
       "      <td>None</td>\n",
       "    </tr>\n",
       "    <tr>\n",
       "      <th>1</th>\n",
       "      <td>SA108D</td>\n",
       "      <td>1</td>\n",
       "      <td>1.301030</td>\n",
       "      <td>NaN</td>\n",
       "      <td>MSKGEELFTGVVPILVELDGDVNGHKFSVSGEGEGDATYGKLTLKF...</td>\n",
       "    </tr>\n",
       "    <tr>\n",
       "      <th>2</th>\n",
       "      <td>SA108D:SN144D:SI186V:SM231T:SL234P</td>\n",
       "      <td>1</td>\n",
       "      <td>1.301031</td>\n",
       "      <td>NaN</td>\n",
       "      <td>MSKGEELFTGVVPILVELDGDVNGHKFSVSGEGEGDATYGKLTLKF...</td>\n",
       "    </tr>\n",
       "    <tr>\n",
       "      <th>3</th>\n",
       "      <td>SA108D:SY141N:SH146L:SE220G</td>\n",
       "      <td>1</td>\n",
       "      <td>1.301189</td>\n",
       "      <td>NaN</td>\n",
       "      <td>MSKGEELFTGVVPILVELDGDVNGHKFSVSGEGEGDATYGKLTLKF...</td>\n",
       "    </tr>\n",
       "    <tr>\n",
       "      <th>4</th>\n",
       "      <td>SA108G</td>\n",
       "      <td>2</td>\n",
       "      <td>3.708478</td>\n",
       "      <td>0.020613</td>\n",
       "      <td>MSKGEELFTGVVPILVELDGDVNGHKFSVSGEGEGDATYGKLTLKF...</td>\n",
       "    </tr>\n",
       "    <tr>\n",
       "      <th>...</th>\n",
       "      <td>...</td>\n",
       "      <td>...</td>\n",
       "      <td>...</td>\n",
       "      <td>...</td>\n",
       "      <td>...</td>\n",
       "    </tr>\n",
       "    <tr>\n",
       "      <th>54020</th>\n",
       "      <td>SY90N:SN103S:SI169F</td>\n",
       "      <td>1</td>\n",
       "      <td>1.552090</td>\n",
       "      <td>NaN</td>\n",
       "      <td>MSKGEELFTGVVPILVELDGDVNGHKFSVSGEGEGDATYGKLTLKF...</td>\n",
       "    </tr>\n",
       "    <tr>\n",
       "      <th>54021</th>\n",
       "      <td>SY90N:SQ175L:SL205Q:ST228A:SM231V</td>\n",
       "      <td>1</td>\n",
       "      <td>1.301030</td>\n",
       "      <td>NaN</td>\n",
       "      <td>MSKGEELFTGVVPILVELDGDVNGHKFSVSGEGEGDATYGKLTLKF...</td>\n",
       "    </tr>\n",
       "    <tr>\n",
       "      <th>54022</th>\n",
       "      <td>SY90R:SI150N:SN196S</td>\n",
       "      <td>1</td>\n",
       "      <td>1.301030</td>\n",
       "      <td>NaN</td>\n",
       "      <td>MSKGEELFTGVVPILVELDGDVNGHKFSVSGEGEGDATYGKLTLKF...</td>\n",
       "    </tr>\n",
       "    <tr>\n",
       "      <th>54023</th>\n",
       "      <td>SY90R:SI165T:SL234P</td>\n",
       "      <td>1</td>\n",
       "      <td>1.301517</td>\n",
       "      <td>NaN</td>\n",
       "      <td>MSKGEELFTGVVPILVELDGDVNGHKFSVSGEGEGDATYGKLTLKF...</td>\n",
       "    </tr>\n",
       "    <tr>\n",
       "      <th>54024</th>\n",
       "      <td>SY90S:SN103D:SK105E:SF128L:SI150V</td>\n",
       "      <td>1</td>\n",
       "      <td>1.302130</td>\n",
       "      <td>NaN</td>\n",
       "      <td>MSKGEELFTGVVPILVELDGDVNGHKFSVSGEGEGDATYGKLTLKF...</td>\n",
       "    </tr>\n",
       "  </tbody>\n",
       "</table>\n",
       "<p>54025 rows × 5 columns</p>\n",
       "</div>"
      ],
      "text/plain": [
       "                              aaMutations  uniqueBarcodes  medianBrightness  \\\n",
       "0                                     NaN            3645          3.719212   \n",
       "1                                  SA108D               1          1.301030   \n",
       "2      SA108D:SN144D:SI186V:SM231T:SL234P               1          1.301031   \n",
       "3             SA108D:SY141N:SH146L:SE220G               1          1.301189   \n",
       "4                                  SA108G               2          3.708478   \n",
       "...                                   ...             ...               ...   \n",
       "54020                 SY90N:SN103S:SI169F               1          1.552090   \n",
       "54021   SY90N:SQ175L:SL205Q:ST228A:SM231V               1          1.301030   \n",
       "54022                 SY90R:SI150N:SN196S               1          1.301030   \n",
       "54023                 SY90R:SI165T:SL234P               1          1.301517   \n",
       "54024   SY90S:SN103D:SK105E:SF128L:SI150V               1          1.302130   \n",
       "\n",
       "            std                                        seq_mutated  \n",
       "0      0.106992                                               None  \n",
       "1           NaN  MSKGEELFTGVVPILVELDGDVNGHKFSVSGEGEGDATYGKLTLKF...  \n",
       "2           NaN  MSKGEELFTGVVPILVELDGDVNGHKFSVSGEGEGDATYGKLTLKF...  \n",
       "3           NaN  MSKGEELFTGVVPILVELDGDVNGHKFSVSGEGEGDATYGKLTLKF...  \n",
       "4      0.020613  MSKGEELFTGVVPILVELDGDVNGHKFSVSGEGEGDATYGKLTLKF...  \n",
       "...         ...                                                ...  \n",
       "54020       NaN  MSKGEELFTGVVPILVELDGDVNGHKFSVSGEGEGDATYGKLTLKF...  \n",
       "54021       NaN  MSKGEELFTGVVPILVELDGDVNGHKFSVSGEGEGDATYGKLTLKF...  \n",
       "54022       NaN  MSKGEELFTGVVPILVELDGDVNGHKFSVSGEGEGDATYGKLTLKF...  \n",
       "54023       NaN  MSKGEELFTGVVPILVELDGDVNGHKFSVSGEGEGDATYGKLTLKF...  \n",
       "54024       NaN  MSKGEELFTGVVPILVELDGDVNGHKFSVSGEGEGDATYGKLTLKF...  \n",
       "\n",
       "[54025 rows x 5 columns]"
      ]
     },
     "execution_count": 7,
     "metadata": {},
     "output_type": "execute_result"
    }
   ],
   "source": [
    "dataset"
   ]
  },
  {
   "cell_type": "code",
   "execution_count": null,
   "metadata": {},
   "outputs": [],
   "source": [
    "# function to generate training data from dataset to respect the propritons of n mutaions in the dataset"
   ]
  },
  {
   "cell_type": "code",
   "execution_count": null,
   "metadata": {},
   "outputs": [
    {
     "data": {
      "text/html": [
       "<div>\n",
       "<style scoped>\n",
       "    .dataframe tbody tr th:only-of-type {\n",
       "        vertical-align: middle;\n",
       "    }\n",
       "\n",
       "    .dataframe tbody tr th {\n",
       "        vertical-align: top;\n",
       "    }\n",
       "\n",
       "    .dataframe thead th {\n",
       "        text-align: right;\n",
       "    }\n",
       "</style>\n",
       "<table border=\"1\" class=\"dataframe\">\n",
       "  <thead>\n",
       "    <tr style=\"text-align: right;\">\n",
       "      <th></th>\n",
       "      <th>aaMutations</th>\n",
       "      <th>uniqueBarcodes</th>\n",
       "      <th>medianBrightness</th>\n",
       "      <th>std</th>\n",
       "      <th>seq_mutated</th>\n",
       "      <th>num_mut</th>\n",
       "    </tr>\n",
       "  </thead>\n",
       "  <tbody>\n",
       "    <tr>\n",
       "      <th>0</th>\n",
       "      <td>NaN</td>\n",
       "      <td>3645</td>\n",
       "      <td>3.719212</td>\n",
       "      <td>0.106992</td>\n",
       "      <td>None</td>\n",
       "      <td>0</td>\n",
       "    </tr>\n",
       "    <tr>\n",
       "      <th>1</th>\n",
       "      <td>SA108D</td>\n",
       "      <td>1</td>\n",
       "      <td>1.301030</td>\n",
       "      <td>NaN</td>\n",
       "      <td>MSKGEELFTGVVPILVELDGDVNGHKFSVSGEGEGDATYGKLTLKF...</td>\n",
       "      <td>1</td>\n",
       "    </tr>\n",
       "    <tr>\n",
       "      <th>2</th>\n",
       "      <td>SA108D:SN144D:SI186V:SM231T:SL234P</td>\n",
       "      <td>1</td>\n",
       "      <td>1.301031</td>\n",
       "      <td>NaN</td>\n",
       "      <td>MSKGEELFTGVVPILVELDGDVNGHKFSVSGEGEGDATYGKLTLKF...</td>\n",
       "      <td>5</td>\n",
       "    </tr>\n",
       "    <tr>\n",
       "      <th>3</th>\n",
       "      <td>SA108D:SY141N:SH146L:SE220G</td>\n",
       "      <td>1</td>\n",
       "      <td>1.301189</td>\n",
       "      <td>NaN</td>\n",
       "      <td>MSKGEELFTGVVPILVELDGDVNGHKFSVSGEGEGDATYGKLTLKF...</td>\n",
       "      <td>4</td>\n",
       "    </tr>\n",
       "    <tr>\n",
       "      <th>4</th>\n",
       "      <td>SA108G</td>\n",
       "      <td>2</td>\n",
       "      <td>3.708478</td>\n",
       "      <td>0.020613</td>\n",
       "      <td>MSKGEELFTGVVPILVELDGDVNGHKFSVSGEGEGDATYGKLTLKF...</td>\n",
       "      <td>1</td>\n",
       "    </tr>\n",
       "  </tbody>\n",
       "</table>\n",
       "</div>"
      ],
      "text/plain": [
       "                          aaMutations  uniqueBarcodes  medianBrightness  \\\n",
       "0                                 NaN            3645          3.719212   \n",
       "1                              SA108D               1          1.301030   \n",
       "2  SA108D:SN144D:SI186V:SM231T:SL234P               1          1.301031   \n",
       "3         SA108D:SY141N:SH146L:SE220G               1          1.301189   \n",
       "4                              SA108G               2          3.708478   \n",
       "\n",
       "        std                                        seq_mutated  num_mut  \n",
       "0  0.106992                                               None        0  \n",
       "1       NaN  MSKGEELFTGVVPILVELDGDVNGHKFSVSGEGEGDATYGKLTLKF...        1  \n",
       "2       NaN  MSKGEELFTGVVPILVELDGDVNGHKFSVSGEGEGDATYGKLTLKF...        5  \n",
       "3       NaN  MSKGEELFTGVVPILVELDGDVNGHKFSVSGEGEGDATYGKLTLKF...        4  \n",
       "4  0.020613  MSKGEELFTGVVPILVELDGDVNGHKFSVSGEGEGDATYGKLTLKF...        1  "
      ]
     },
     "execution_count": 14,
     "metadata": {},
     "output_type": "execute_result"
    }
   ],
   "source": []
  },
  {
   "cell_type": "markdown",
   "metadata": {},
   "source": [
    "### Analysis of MSA changes and delta"
   ]
  },
  {
   "cell_type": "code",
   "execution_count": 16,
   "metadata": {},
   "outputs": [],
   "source": [
    "def load_a3m_file(file_name: str):\n",
    "    \"\"\"\n",
    "    Loads an A3M (multiple sequence alignment) file and extracts the raw amino acid sequences.\n",
    "\n",
    "    Args:\n",
    "        file_name: Path to the A3M file.\n",
    "\n",
    "    Returns:\n",
    "        A list of strings where each string represents an individual protein sequence from the input MSA.\n",
    "    \"\"\"\n",
    "\n",
    "    seqs = None\n",
    "    current_id = None\n",
    "    seqs = {}\n",
    "    with open(file_name, 'r') as f:\n",
    "        for line in f:\n",
    "            line = line.strip()\n",
    "            if line.startswith('>'):\n",
    "                current_id = line[1:]\n",
    "                seqs[current_id] = \"\"\n",
    "            elif current_id:\n",
    "                seqs[current_id] = line\n",
    "\n",
    "    sequences = [value for value in seqs.values()]\n",
    "\n",
    "    return sequences"
   ]
  },
  {
   "cell_type": "code",
   "execution_count": 17,
   "metadata": {},
   "outputs": [],
   "source": [
    "msa_path = '/Users/thomasbush/Documents/ML/gfp_tryout/data/gfp_msa_b5fdc_0.a3m'\n",
    "\n",
    "sequences = load_a3m_file(msa_path)"
   ]
  },
  {
   "cell_type": "code",
   "execution_count": null,
   "metadata": {},
   "outputs": [],
   "source": []
  },
  {
   "cell_type": "markdown",
   "metadata": {},
   "source": [
    "### Number of mutations vs changes"
   ]
  },
  {
   "cell_type": "code",
   "execution_count": 8,
   "metadata": {},
   "outputs": [],
   "source": [
    "import matplotlib.pyplot as plt\n",
    "import seaborn as sns\n",
    "%matplotlib inline"
   ]
  },
  {
   "cell_type": "code",
   "execution_count": 9,
   "metadata": {},
   "outputs": [],
   "source": [
    "def get_numb_mut(mut:str)->int:\n",
    "    if type(mut) == str:\n",
    "        n = len(mut.split(':'))\n",
    "    else: \n",
    "        return 0\n",
    "    return n\n",
    "\n",
    "dataset['num_mut'] = dataset['aaMutations'].apply(lambda mut:get_numb_mut(mut))"
   ]
  },
  {
   "cell_type": "code",
   "execution_count": 10,
   "metadata": {},
   "outputs": [
    {
     "data": {
      "text/plain": [
       "np.float64(-0.5514925663083187)"
      ]
     },
     "execution_count": 10,
     "metadata": {},
     "output_type": "execute_result"
    }
   ],
   "source": [
    "# run correlation\n",
    "dataset['num_mut'].corr(dataset['medianBrightness'],method='spearman' )"
   ]
  },
  {
   "cell_type": "code",
   "execution_count": 11,
   "metadata": {},
   "outputs": [
    {
     "data": {
      "image/png": "[encoded data removed]",
      "text/plain": [
       "<Figure size 640x480 with 1 Axes>"
      ]
     },
     "metadata": {},
     "output_type": "display_data"
    }
   ],
   "source": [
    "import matplotlib.pyplot as plt\n",
    "\n",
    "\n",
    "plt.hist(dataset['num_mut'], alpha=0.5)\n",
    "plt.xlabel('Number of Mutations')\n",
    "plt.ylabel('Frequency')\n",
    "plt.title('Distribution of Number of Mutations')\n",
    "plt.show()"
   ]
  },
  {
   "cell_type": "code",
   "execution_count": 13,
   "metadata": {},
   "outputs": [
    {
     "name": "stdout",
     "output_type": "stream",
     "text": [
      "Balanced subset created with 1002 samples\n",
      "Original distribution:\n",
      "num_mut\n",
      "0     0.000019\n",
      "1     0.020620\n",
      "2     0.240814\n",
      "3     0.234762\n",
      "4     0.180639\n",
      "5     0.133549\n",
      "6     0.085942\n",
      "7     0.051513\n",
      "8     0.028246\n",
      "9     0.013216\n",
      "10    0.006516\n",
      "11    0.002628\n",
      "12    0.000925\n",
      "13    0.000463\n",
      "14    0.000111\n",
      "15    0.000037\n",
      "Name: proportion, dtype: float64\n",
      "\n",
      "Balanced subset distribution:\n",
      "num_mut\n",
      "1     0.020958\n",
      "2     0.240519\n",
      "3     0.234531\n",
      "4     0.180639\n",
      "5     0.133733\n",
      "6     0.085828\n",
      "7     0.051896\n",
      "8     0.027944\n",
      "9     0.012974\n",
      "10    0.006986\n",
      "11    0.002994\n",
      "12    0.000998\n",
      "Name: proportion, dtype: float64\n",
      "\n",
      "Results saved to: balanced_subset.txt\n"
     ]
    },
    {
     "data": {
      "text/html": [
       "<div>\n",
       "<style scoped>\n",
       "    .dataframe tbody tr th:only-of-type {\n",
       "        vertical-align: middle;\n",
       "    }\n",
       "\n",
       "    .dataframe tbody tr th {\n",
       "        vertical-align: top;\n",
       "    }\n",
       "\n",
       "    .dataframe thead th {\n",
       "        text-align: right;\n",
       "    }\n",
       "</style>\n",
       "<table border=\"1\" class=\"dataframe\">\n",
       "  <thead>\n",
       "    <tr style=\"text-align: right;\">\n",
       "      <th></th>\n",
       "      <th>aaMutations</th>\n",
       "      <th>uniqueBarcodes</th>\n",
       "      <th>medianBrightness</th>\n",
       "      <th>std</th>\n",
       "      <th>seq_mutated</th>\n",
       "      <th>num_mut</th>\n",
       "    </tr>\n",
       "  </thead>\n",
       "  <tbody>\n",
       "    <tr>\n",
       "      <th>30955</th>\n",
       "      <td>SL16M:SK129E</td>\n",
       "      <td>1</td>\n",
       "      <td>3.503791</td>\n",
       "      <td>NaN</td>\n",
       "      <td>MSKGEELFTGVVPILVEMDGDVNGHKFSVSGEGEGDATYGKLTLKF...</td>\n",
       "      <td>2</td>\n",
       "    </tr>\n",
       "    <tr>\n",
       "      <th>36810</th>\n",
       "      <td>SN183D:SM231K</td>\n",
       "      <td>1</td>\n",
       "      <td>3.501308</td>\n",
       "      <td>NaN</td>\n",
       "      <td>MSKGEELFTGVVPILVELDGDVNGHKFSVSGEGEGDATYGKLTLKF...</td>\n",
       "      <td>2</td>\n",
       "    </tr>\n",
       "    <tr>\n",
       "      <th>35443</th>\n",
       "      <td>SN119Y:SD208G</td>\n",
       "      <td>1</td>\n",
       "      <td>1.500171</td>\n",
       "      <td>NaN</td>\n",
       "      <td>MSKGEELFTGVVPILVELDGDVNGHKFSVSGEGEGDATYGKLTLKF...</td>\n",
       "      <td>2</td>\n",
       "    </tr>\n",
       "    <tr>\n",
       "      <th>33609</th>\n",
       "      <td>SL62P:SP87L</td>\n",
       "      <td>1</td>\n",
       "      <td>1.719540</td>\n",
       "      <td>NaN</td>\n",
       "      <td>MSKGEELFTGVVPILVELDGDVNGHKFSVSGEGEGDATYGKLTLKF...</td>\n",
       "      <td>2</td>\n",
       "    </tr>\n",
       "    <tr>\n",
       "      <th>40164</th>\n",
       "      <td>SS173G:SH229R</td>\n",
       "      <td>1</td>\n",
       "      <td>3.641148</td>\n",
       "      <td>NaN</td>\n",
       "      <td>MSKGEELFTGVVPILVELDGDVNGHKFSVSGEGEGDATYGKLTLKF...</td>\n",
       "      <td>2</td>\n",
       "    </tr>\n",
       "    <tr>\n",
       "      <th>...</th>\n",
       "      <td>...</td>\n",
       "      <td>...</td>\n",
       "      <td>...</td>\n",
       "      <td>...</td>\n",
       "      <td>...</td>\n",
       "      <td>...</td>\n",
       "    </tr>\n",
       "    <tr>\n",
       "      <th>25229</th>\n",
       "      <td>SK1R:SI45V:SK50R:SQ78R:SA108V:SK207E:SM216V:SV...</td>\n",
       "      <td>1</td>\n",
       "      <td>1.300330</td>\n",
       "      <td>NaN</td>\n",
       "      <td>MSRGEELFTGVVPILVELDGDVNGHKFSVSGEGEGDATYGKLTLKF...</td>\n",
       "      <td>10</td>\n",
       "    </tr>\n",
       "    <tr>\n",
       "      <th>2014</th>\n",
       "      <td>SD17A:SN21D:SG31A:SE32A:SF69Y:SF98L:SN103S:SI1...</td>\n",
       "      <td>1</td>\n",
       "      <td>1.717811</td>\n",
       "      <td>NaN</td>\n",
       "      <td>MSKGEELFTGVVPILVELAGDVNGHKFSVSGEGEGDATYGKLTLKF...</td>\n",
       "      <td>11</td>\n",
       "    </tr>\n",
       "    <tr>\n",
       "      <th>7981</th>\n",
       "      <td>SE3G:ST7I:SP56L:SF69L:SF81S:SY90C:SI126F:SE130...</td>\n",
       "      <td>1</td>\n",
       "      <td>1.298620</td>\n",
       "      <td>NaN</td>\n",
       "      <td>MSKGGELFTGVVPILVELDGDVNGHKFSVSGEGEGDATYGKLTLKF...</td>\n",
       "      <td>11</td>\n",
       "    </tr>\n",
       "    <tr>\n",
       "      <th>360</th>\n",
       "      <td>SC46R:SG49S:SW55*:SD74Y:SS84P:SY104C:SN119S:SK...</td>\n",
       "      <td>1</td>\n",
       "      <td>1.525195</td>\n",
       "      <td>NaN</td>\n",
       "      <td>MSKGEELFTGVVPILVELDGDVNGHKFSVSGEGEGDATYGKLTLKF...</td>\n",
       "      <td>11</td>\n",
       "    </tr>\n",
       "    <tr>\n",
       "      <th>49646</th>\n",
       "      <td>SV27G:SS28P:SL51P:SH137L:SK154R:SN162S:SQ175R:...</td>\n",
       "      <td>1</td>\n",
       "      <td>1.299918</td>\n",
       "      <td>NaN</td>\n",
       "      <td>MSKGEELFTGVVPILVELDGDVNGHKFSGSGEGEGDATYGKLTLKF...</td>\n",
       "      <td>12</td>\n",
       "    </tr>\n",
       "  </tbody>\n",
       "</table>\n",
       "<p>1002 rows × 6 columns</p>\n",
       "</div>"
      ],
      "text/plain": [
       "                                             aaMutations  uniqueBarcodes  \\\n",
       "30955                                       SL16M:SK129E               1   \n",
       "36810                                      SN183D:SM231K               1   \n",
       "35443                                      SN119Y:SD208G               1   \n",
       "33609                                        SL62P:SP87L               1   \n",
       "40164                                      SS173G:SH229R               1   \n",
       "...                                                  ...             ...   \n",
       "25229  SK1R:SI45V:SK50R:SQ78R:SA108V:SK207E:SM216V:SV...               1   \n",
       "2014   SD17A:SN21D:SG31A:SE32A:SF69Y:SF98L:SN103S:SI1...               1   \n",
       "7981   SE3G:ST7I:SP56L:SF69L:SF81S:SY90C:SI126F:SE130...               1   \n",
       "360    SC46R:SG49S:SW55*:SD74Y:SS84P:SY104C:SN119S:SK...               1   \n",
       "49646  SV27G:SS28P:SL51P:SH137L:SK154R:SN162S:SQ175R:...               1   \n",
       "\n",
       "       medianBrightness  std  \\\n",
       "30955          3.503791  NaN   \n",
       "36810          3.501308  NaN   \n",
       "35443          1.500171  NaN   \n",
       "33609          1.719540  NaN   \n",
       "40164          3.641148  NaN   \n",
       "...                 ...  ...   \n",
       "25229          1.300330  NaN   \n",
       "2014           1.717811  NaN   \n",
       "7981           1.298620  NaN   \n",
       "360            1.525195  NaN   \n",
       "49646          1.299918  NaN   \n",
       "\n",
       "                                             seq_mutated  num_mut  \n",
       "30955  MSKGEELFTGVVPILVEMDGDVNGHKFSVSGEGEGDATYGKLTLKF...        2  \n",
       "36810  MSKGEELFTGVVPILVELDGDVNGHKFSVSGEGEGDATYGKLTLKF...        2  \n",
       "35443  MSKGEELFTGVVPILVELDGDVNGHKFSVSGEGEGDATYGKLTLKF...        2  \n",
       "33609  MSKGEELFTGVVPILVELDGDVNGHKFSVSGEGEGDATYGKLTLKF...        2  \n",
       "40164  MSKGEELFTGVVPILVELDGDVNGHKFSVSGEGEGDATYGKLTLKF...        2  \n",
       "...                                                  ...      ...  \n",
       "25229  MSRGEELFTGVVPILVELDGDVNGHKFSVSGEGEGDATYGKLTLKF...       10  \n",
       "2014   MSKGEELFTGVVPILVELAGDVNGHKFSVSGEGEGDATYGKLTLKF...       11  \n",
       "7981   MSKGGELFTGVVPILVELDGDVNGHKFSVSGEGEGDATYGKLTLKF...       11  \n",
       "360    MSKGEELFTGVVPILVELDGDVNGHKFSVSGEGEGDATYGKLTLKF...       11  \n",
       "49646  MSKGEELFTGVVPILVELDGDVNGHKFSGSGEGEGDATYGKLTLKF...       12  \n",
       "\n",
       "[1002 rows x 6 columns]"
      ]
     },
     "execution_count": 13,
     "metadata": {},
     "output_type": "execute_result"
    }
   ],
   "source": [
    "from scripts.balanced_sampling import generate_idx_for_n_mutations\n",
    "\n",
    "\n",
    "generate_idx_for_n_mutations(dataset, 1000)"
   ]
  },
  {
   "cell_type": "code",
   "execution_count": 155,
   "metadata": {},
   "outputs": [
    {
     "data": {
      "image/png": "[encoded data removed]",
      "text/plain": [
       "<Figure size 800x600 with 1 Axes>"
      ]
     },
     "metadata": {},
     "output_type": "display_data"
    }
   ],
   "source": [
    "plt.figure(figsize=(8, 6))\n",
    "sns.kdeplot(\n",
    "    data=dataset,\n",
    "    x='num_mut',\n",
    "    y='medianBrightness',\n",
    "    fill=True,\n",
    "    cmap=\"viridis\",\n",
    "    thresh=0.05\n",
    ")\n",
    "plt.title('2D Density Plot of Mutations vs Brightness')\n",
    "plt.savefig('/Users/thomasbush/Downloads/2d_density_plot.png')\n",
    "plt.show()\n"
   ]
  },
  {
   "cell_type": "markdown",
   "metadata": {},
   "source": [
    "### Check the region of the mutation"
   ]
  },
  {
   "cell_type": "code",
   "execution_count": 123,
   "metadata": {},
   "outputs": [],
   "source": [
    "# extract region of mut\n",
    "pattern = r'\\D*(\\d+)\\D*'\n",
    "def extract_region_mut(mut:str)->int:\n",
    "    if type(mut)==str:\n",
    "        mutations = mut.split(\":\")\n",
    "        regions = [re.search(pattern=pattern, string=m).group(1) for m in mutations]\n",
    "        return regions\n",
    "\n",
    "dataset['mut_region'] = dataset['aaMutations'].apply(lambda mut: extract_region_mut(mut))"
   ]
  },
  {
   "cell_type": "code",
   "execution_count": 132,
   "metadata": {},
   "outputs": [
    {
     "name": "stdout",
     "output_type": "stream",
     "text": [
      "Spearman correlation between region and brightness (mut < 2): -0.104\n"
     ]
    }
   ],
   "source": [
    "filtered = dataset[dataset['num_mut'] < 2].copy()\n",
    "\n",
    "# Encode regions numerically (e.g., 'brain' -> 0, 'liver' -> 1, etc.)\n",
    "filtered['mut_region'] = filtered['mut_region'][1:].apply(lambda m: m[0])\n",
    "filtered['mut_region_encoded'] = filtered['mut_region'].astype('category').cat.codes\n",
    "\n",
    "# Compute correlation\n",
    "corr = filtered['mut_region_encoded'].corr(filtered['medianBrightness'], method='spearman')\n",
    "print(f\"Spearman correlation between region and brightness (mut < 2): {corr:.3f}\")"
   ]
  },
  {
   "cell_type": "code",
   "execution_count": 134,
   "metadata": {},
   "outputs": [
    {
     "data": {
      "image/png": "[encoded data removed]",
      "text/plain": [
       "<Figure size 800x600 with 1 Axes>"
      ]
     },
     "metadata": {},
     "output_type": "display_data"
    }
   ],
   "source": [
    "plt.figure(figsize=(8, 6))\n",
    "sns.kdeplot(\n",
    "    data=filtered,\n",
    "    x='mut_region_encoded',\n",
    "    y='medianBrightness',\n",
    "    fill=True,\n",
    "    cmap=\"viridis\",\n",
    "    thresh=0.05\n",
    ")\n",
    "plt.title('2D Density Plot of Mutations region vs Brightness')\n",
    "plt.show()\n"
   ]
  },
  {
   "cell_type": "markdown",
   "metadata": {},
   "source": [
    "### create test data YAML\n"
   ]
  },
  {
   "cell_type": "code",
   "execution_count": 241,
   "metadata": {},
   "outputs": [
    {
     "name": "stderr",
     "output_type": "stream",
     "text": [
      "huggingface/tokenizers: The current process just got forked, after parallelism has already been used. Disabling parallelism to avoid deadlocks...\n",
      "To disable this warning, you can either:\n",
      "\t- Avoid using `tokenizers` before the fork if possible\n",
      "\t- Explicitly set the environment variable TOKENIZERS_PARALLELISM=(true | false)\n"
     ]
    },
    {
     "name": "stdout",
     "output_type": "stream",
     "text": [
      "Requirement already satisfied: pyyaml in /Users/thomasbush/miniconda3/envs/alphafold/lib/python3.9/site-packages (6.0.2)\n",
      "Note: you may need to restart the kernel to use updated packages.\n"
     ]
    }
   ],
   "source": [
    "pip install pyyaml"
   ]
  },
  {
   "cell_type": "code",
   "execution_count": null,
   "metadata": {},
   "outputs": [],
   "source": [
    "import argparse\n",
    "\n",
    "parser = argparse.ArgumentParser()\n",
    "parser.add_argument('--seq', type=str, required=True)\n",
    "parser.add_argument('--mut', type=str, required=True)\n",
    "args = parser.parse_args()\n",
    "\n",
    "print(args.seq)\n",
    "print(args.mut)"
   ]
  },
  {
   "cell_type": "code",
   "execution_count": 252,
   "metadata": {},
   "outputs": [
    {
     "name": "stdout",
     "output_type": "stream",
     "text": [
      "Data successfully written to 'test_input.yaml'\n"
     ]
    }
   ],
   "source": [
    "import yaml\n",
    "\n",
    "data_seq = {\n",
    "    'version':'1',\n",
    "    'sequences': {\n",
    "        'id': 'A',\n",
    "        'sequence': f'{seq}',\n",
    "        'msa': 'empty'\n",
    "    }\n",
    "}\n",
    "\n",
    "# Define the filename for the YAML output\n",
    "filename = 'test_input.yaml'\n",
    "\n",
    "# Open the file in write mode and dump the data\n",
    "try:\n",
    "    with open(filename, 'w') as file:\n",
    "        yaml.dump(data_seq, file, sort_keys=False) # sort_keys=False preserves key order\n",
    "    print(f\"Data successfully written to '{filename}'\")\n",
    "except Exception as e:\n",
    "    print(f\"An error occurred: {e}\")"
   ]
  },
  {
   "cell_type": "markdown",
   "metadata": {},
   "source": [
    "### Type of mutation"
   ]
  },
  {
   "cell_type": "code",
   "execution_count": 156,
   "metadata": {},
   "outputs": [],
   "source": [
    "import torch\n",
    "from torch import nn\n",
    "import math"
   ]
  },
  {
   "cell_type": "code",
   "execution_count": 216,
   "metadata": {},
   "outputs": [],
   "source": [
    "x = torch.randn((12, 5, 10))\n",
    "#we then create a class:\n",
    "class SelfAttentionModule(nn.Module):\n",
    "    def __init__(self, x_in, c):\n",
    "        super().__init__()\n",
    "        self.c = c\n",
    "        # we define the three linear layers\n",
    "        self.linear_q = nn.Linear(x_in, c)\n",
    "        self.linear_k = nn.Linear(x_in, c)\n",
    "        self.linear_v = nn.Linear(x_in, c)\n",
    "        self.linear_o = nn.Linear(c, x_in)\n",
    "\n",
    "    def forward(self, x:torch.Tensor)->torch.Tensor:\n",
    "        # we apply the linear transformations\n",
    "        Q = self.linear_q(x)\n",
    "        # scale Q\n",
    "        Q = Q / math.sqrt(self.c)\n",
    "        K = self.linear_k(x)\n",
    "        V = self.linear_v(x)\n",
    "        # calculate affinities:\n",
    "        affinities = torch.einsum('...kj, ...zi->...kz',Q, K)\n",
    "        # convert to weights\n",
    "        attn_weights = torch.softmax(affinities, dim=-1)\n",
    "        # get the attn_values:\n",
    "        attn_values = torch.einsum('...kz, ...zc->...kc', attn_weights, V)\n",
    "        attn_values = self.linear_o(attn_values)\n",
    "        return attn_values, attn_weights"
   ]
  },
  {
   "cell_type": "code",
   "execution_count": 163,
   "metadata": {},
   "outputs": [],
   "source": [
    "attention = SelfAttentionModule(10, 8)\n",
    "attn_val = attention(x)"
   ]
  },
  {
   "cell_type": "code",
   "execution_count": 165,
   "metadata": {},
   "outputs": [
    {
     "name": "stdout",
     "output_type": "stream",
     "text": [
      "Requirement already satisfied: seaborn in /Users/thomasbush/miniconda3/envs/alphafold/lib/python3.9/site-packages (0.13.2)\n",
      "Requirement already satisfied: numpy!=1.24.0,>=1.20 in /Users/thomasbush/miniconda3/envs/alphafold/lib/python3.9/site-packages (from seaborn) (2.0.1)\n",
      "Requirement already satisfied: pandas>=1.2 in /Users/thomasbush/miniconda3/envs/alphafold/lib/python3.9/site-packages (from seaborn) (2.2.3)\n",
      "Requirement already satisfied: matplotlib!=3.6.1,>=3.4 in /Users/thomasbush/miniconda3/envs/alphafold/lib/python3.9/site-packages (from seaborn) (3.9.2)\n",
      "Requirement already satisfied: contourpy>=1.0.1 in /Users/thomasbush/miniconda3/envs/alphafold/lib/python3.9/site-packages (from matplotlib!=3.6.1,>=3.4->seaborn) (1.2.1)\n",
      "Requirement already satisfied: cycler>=0.10 in /Users/thomasbush/miniconda3/envs/alphafold/lib/python3.9/site-packages (from matplotlib!=3.6.1,>=3.4->seaborn) (0.11.0)\n",
      "Requirement already satisfied: fonttools>=4.22.0 in /Users/thomasbush/miniconda3/envs/alphafold/lib/python3.9/site-packages (from matplotlib!=3.6.1,>=3.4->seaborn) (4.55.3)\n",
      "Requirement already satisfied: kiwisolver>=1.3.1 in /Users/thomasbush/miniconda3/envs/alphafold/lib/python3.9/site-packages (from matplotlib!=3.6.1,>=3.4->seaborn) (1.4.4)\n",
      "Requirement already satisfied: packaging>=20.0 in /Users/thomasbush/miniconda3/envs/alphafold/lib/python3.9/site-packages (from matplotlib!=3.6.1,>=3.4->seaborn) (24.2)\n",
      "Requirement already satisfied: pillow>=8 in /Users/thomasbush/miniconda3/envs/alphafold/lib/python3.9/site-packages (from matplotlib!=3.6.1,>=3.4->seaborn) (11.1.0)\n",
      "Requirement already satisfied: pyparsing>=2.3.1 in /Users/thomasbush/miniconda3/envs/alphafold/lib/python3.9/site-packages (from matplotlib!=3.6.1,>=3.4->seaborn) (3.2.0)\n",
      "Requirement already satisfied: python-dateutil>=2.7 in /Users/thomasbush/miniconda3/envs/alphafold/lib/python3.9/site-packages (from matplotlib!=3.6.1,>=3.4->seaborn) (2.9.0.post0)\n",
      "Requirement already satisfied: importlib-resources>=3.2.0 in /Users/thomasbush/miniconda3/envs/alphafold/lib/python3.9/site-packages (from matplotlib!=3.6.1,>=3.4->seaborn) (6.4.0)\n",
      "Requirement already satisfied: zipp>=3.1.0 in /Users/thomasbush/miniconda3/envs/alphafold/lib/python3.9/site-packages (from importlib-resources>=3.2.0->matplotlib!=3.6.1,>=3.4->seaborn) (3.21.0)\n",
      "Requirement already satisfied: pytz>=2020.1 in /Users/thomasbush/miniconda3/envs/alphafold/lib/python3.9/site-packages (from pandas>=1.2->seaborn) (2024.1)\n",
      "Requirement already satisfied: tzdata>=2022.7 in /Users/thomasbush/miniconda3/envs/alphafold/lib/python3.9/site-packages (from pandas>=1.2->seaborn) (2025.2)\n",
      "Requirement already satisfied: six>=1.5 in /Users/thomasbush/miniconda3/envs/alphafold/lib/python3.9/site-packages (from python-dateutil>=2.7->matplotlib!=3.6.1,>=3.4->seaborn) (1.17.0)\n"
     ]
    }
   ],
   "source": [
    "!pip install seaborn"
   ]
  },
  {
   "cell_type": "code",
   "execution_count": 221,
   "metadata": {},
   "outputs": [
    {
     "data": {
      "image/png": "[encoded data removed]",
      "text/plain": [
       "<Figure size 1000x800 with 2 Axes>"
      ]
     },
     "metadata": {},
     "output_type": "display_data"
    }
   ],
   "source": [
    "# let's try the viz\n",
    "import torch\n",
    "from transformers import AutoTokenizer, AutoModel\n",
    "import matplotlib.pyplot as plt\n",
    "import seaborn as sns\n",
    "\n",
    "# Load pretrained lightweight model and tokenizer\n",
    "model_name = \"distilbert-base-uncased\"\n",
    "tokenizer = AutoTokenizer.from_pretrained(model_name)\n",
    "model = AutoModel.from_pretrained(model_name, output_attentions=True)\n",
    "\n",
    "# Your sentence\n",
    "sentence = \"The cat is fluffy and soft\"\n",
    "\n",
    "# Tokenize input\n",
    "inputs = tokenizer(sentence, return_tensors=\"pt\")\n",
    "\n",
    "# Forward pass\n",
    "with torch.no_grad():\n",
    "    outputs = model(**inputs)\n",
    "\n",
    "# Extract attention matrices (layer 0, head 0)\n",
    "attentions = outputs.attentions  # List of layers -> [batch, heads, tokens, tokens]\n",
    "attention_matrix = attentions[0][0, 0]  # First layer, first head\n",
    "\n",
    "# Plot\n",
    "tokens = tokenizer.convert_ids_to_tokens(inputs[\"input_ids\"][0])\n",
    "plt.figure(figsize=(10, 8))\n",
    "sns.heatmap(attention_matrix, xticklabels=tokens, yticklabels=tokens, cmap=\"viridis\")\n",
    "plt.title(\"Attention Matrix (Layer 0, Head 0)\")\n",
    "plt.xlabel(\"Key\")\n",
    "plt.ylabel(\"Query\")\n",
    "plt.show()\n"
   ]
  },
  {
   "cell_type": "code",
   "execution_count": 211,
   "metadata": {},
   "outputs": [
    {
     "data": {
      "text/plain": [
       "torch.Size([1, 12, 12, 12])"
      ]
     },
     "execution_count": 211,
     "metadata": {},
     "output_type": "execute_result"
    }
   ],
   "source": [
    "attentions[0].shape"
   ]
  },
  {
   "cell_type": "code",
   "execution_count": 179,
   "metadata": {},
   "outputs": [],
   "source": [
    "from torch import Tensor, nn\n",
    "from typing import Dict, Iterable, Callable\n",
    "\n",
    "class FeatureExtractor(nn.Module):\n",
    "    def __init__(self, model: nn.Module, layers: Iterable[str]):\n",
    "        super().__init__()\n",
    "        self.model = model\n",
    "        self.layers = layers\n",
    "        self._features = {layer: torch.empty(0) for layer in layers}\n",
    "\n",
    "        for layer_id in layers:\n",
    "            layer = dict([*self.model.named_modules()])[layer_id]\n",
    "            layer.register_forward_hook(self.save_outputs_hook(layer_id))\n",
    "\n",
    "    def save_outputs_hook(self, layer_id: str) -> Callable:\n",
    "        def fn(_, __, output):\n",
    "            self._features[layer_id] = output\n",
    "        return fn\n",
    "\n",
    "    def forward(self, input_ids: Tensor, attention_mask: Tensor) -> Dict[str, Tensor]:\n",
    "        _ = self.model(input_ids, attention_mask)\n",
    "        return self._features"
   ]
  },
  {
   "cell_type": "code",
   "execution_count": 199,
   "metadata": {},
   "outputs": [],
   "source": [
    "feature_extractor = FeatureExtractor(AutoModel.from_pretrained(model_name, output_attentions=True), layers=['embeddings'])"
   ]
  },
  {
   "cell_type": "code",
   "execution_count": 200,
   "metadata": {},
   "outputs": [],
   "source": [
    "with torch.no_grad():\n",
    "    embeddings = feature_extractor(**inputs)"
   ]
  },
  {
   "cell_type": "code",
   "execution_count": 217,
   "metadata": {},
   "outputs": [],
   "source": [
    "x = embeddings['embeddings']\n",
    "attention = SelfAttentionModule(768, 64)\n",
    "attn_val, attn_w = attention(x)"
   ]
  },
  {
   "cell_type": "code",
   "execution_count": 220,
   "metadata": {},
   "outputs": [
    {
     "data": {
      "image/png": "[encoded data removed]",
      "text/plain": [
       "<Figure size 1000x800 with 2 Axes>"
      ]
     },
     "metadata": {},
     "output_type": "display_data"
    }
   ],
   "source": [
    "attention_matrix = attn_w[0].detach().numpy()\n",
    "tokens = tokenizer.convert_ids_to_tokens(inputs[\"input_ids\"][0])\n",
    "plt.figure(figsize=(10, 8))\n",
    "sns.heatmap(attention_matrix, xticklabels=tokens, yticklabels=tokens, cmap=\"viridis\")\n",
    "plt.title(\"Attention Matrix (Layer 0, Head 0)\")\n",
    "plt.xlabel(\"Key\")\n",
    "plt.ylabel(\"Query\")\n",
    "plt.show()\n"
   ]
  },
  {
   "cell_type": "code",
   "execution_count": 230,
   "metadata": {},
   "outputs": [
    {
     "data": {
      "text/plain": [
       "tensor([[1., 0., 0., 0.],\n",
       "        [1., 1., 0., 0.],\n",
       "        [1., 1., 1., 0.],\n",
       "        [1., 1., 1., 1.]])"
      ]
     },
     "execution_count": 230,
     "metadata": {},
     "output_type": "execute_result"
    }
   ],
   "source": [
    "torch.tril(torch.ones((4, 4)))"
   ]
  },
  {
   "cell_type": "code",
   "execution_count": 229,
   "metadata": {},
   "outputs": [
    {
     "data": {
      "text/plain": [
       "tensor([[ 1.6459,    -inf,    -inf,    -inf],\n",
       "        [-2.6133, -1.6965,    -inf,    -inf],\n",
       "        [ 0.2469,  0.0769,  0.3380,    -inf],\n",
       "        [ 0.4569, -0.8654,  0.7813, -0.9268]])"
      ]
     },
     "execution_count": 229,
     "metadata": {},
     "output_type": "execute_result"
    }
   ],
   "source": [
    "mask = torch.tril(torch.ones((4, 4))).bool()\n",
    "x = torch.randn((4, 4))\n",
    "\n",
    "# apply the mask \n",
    "x.masked_fill(mask==0, float('-inf'))"
   ]
  },
  {
   "cell_type": "code",
   "execution_count": null,
   "metadata": {},
   "outputs": [],
   "source": []
  }
 ],
 "metadata": {
  "kernelspec": {
   "display_name": "alphafold",
   "language": "python",
   "name": "python3"
  },
  "language_info": {
   "codemirror_mode": {
    "name": "ipython",
    "version": 3
   },
   "file_extension": ".py",
   "mimetype": "text/x-python",
   "name": "python",
   "nbconvert_exporter": "python",
   "pygments_lexer": "ipython3",
   "version": "3.9.23"
  }
 },
 "nbformat": 4,
 "nbformat_minor": 2
}
